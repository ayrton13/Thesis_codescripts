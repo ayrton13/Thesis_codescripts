{
 "cells": [
  {
   "cell_type": "code",
   "execution_count": 16,
   "id": "110c9af3",
   "metadata": {},
   "outputs": [],
   "source": [
    "## LSTM neural network part 2 (optional)\n",
    "import os\n",
    "os.environ['TF_CPP_MIN_LOG_LEVEL'] = '2'\n",
    "\n",
    "# Neural network\n",
    "from tensorflow import keras\n",
    "from keras import Sequential\n",
    "from keras.layers import Dense\n",
    "from keras.layers import LSTM\n",
    "\n",
    "#Preprocessing\n",
    "import pandas as pd\n",
    "from pandas import Series\n",
    "import numpy as np\n",
    "import os\n",
    "from sklearn.model_selection import train_test_split\n",
    "\n",
    "#visualization \n",
    "import matplotlib.pyplot as plt"
   ]
  },
  {
   "cell_type": "code",
   "execution_count": 18,
   "id": "3da5deb3",
   "metadata": {},
   "outputs": [
    {
     "name": "stdout",
     "output_type": "stream",
     "text": [
      "close    0\n",
      "dtype: int64\n"
     ]
    }
   ],
   "source": [
    "#Import the airline passengers data\n",
    "\n",
    "def closePrice(filename):\n",
    "    data = pd.read_csv(filename, sep = \",\", header = 1)\n",
    "    data = data[['date', 'close']].set_index(['date'])\n",
    "    return data[:1421][::-1]\n",
    "\n",
    "bitcoin = closePrice(\"Binance_BTCUSDT_d.csv\")\n",
    "ethereum = closePrice(\"Binance_ETHUSDT_d.csv\")\n",
    "binance = closePrice(\"Binance_BNBUSDT_d.csv\")\n",
    "cardano = closePrice(\"Binance_ADAUSDT_d (2).csv\")\n",
    "solana = closePrice(\"Binance_SOLUSDT_d.csv\")\n",
    "ripple = closePrice(\"Binance_XRPUSDT_d.csv\")\n",
    "print(ripple.isna().sum())"
   ]
  },
  {
   "cell_type": "code",
   "execution_count": 37,
   "id": "58648c45",
   "metadata": {},
   "outputs": [],
   "source": [
    "# Define coin names for functions later on\n",
    "coins = [bitcoin, ethereum, binance, cardano, solana, ripple]\n",
    "coin_name = ['Bitcoin', 'Ethereum', \"Binance coin\", \"Cardano\", \"Solana\", \"Ripple\"]\n",
    "coin_abr = [\"BTC\", \"ETH\", \"BNB\", \"ADA\", \"SOL\", \"XRP\"]\n"
   ]
  },
  {
   "cell_type": "code",
   "execution_count": null,
   "id": "27e9a469",
   "metadata": {},
   "outputs": [],
   "source": [
    "# visualizations\n",
    "for i,coin in enumerate(coins):\n",
    "    plt.subplot(2,3,i+1), plt.plot(coin), plt.title(\"Plot of \" + coin_name[i] + \" Dec. 2017 - Oct. 2022\")\n",
    "    "
   ]
  },
  {
   "cell_type": "code",
   "execution_count": 255,
   "id": "115dba1f",
   "metadata": {},
   "outputs": [
    {
     "name": "stdout",
     "output_type": "stream",
     "text": [
      "[[0.44398213]\n",
      " [0.45157399]\n",
      " [0.42922804]\n",
      " [0.40572861]\n",
      " [0.39499997]\n",
      " [0.38802017]\n",
      " [0.35904755]\n",
      " [0.31815748]\n",
      " [0.32352474]\n",
      " [0.34987259]] (1307, 1)\n"
     ]
    }
   ],
   "source": [
    "# Convert to numpy arrray\n",
    "data = ripple.to_numpy()\n",
    "\n",
    "# scale the data\n",
    "from sklearn.preprocessing import MinMaxScaler\n",
    "scaler = MinMaxScaler()\n",
    "\n",
    "sequence = scaler.fit_transform(data.reshape(-1,1))\n",
    "print(sequence[:10], sequence.shape)"
   ]
  },
  {
   "cell_type": "markdown",
   "id": "f38cab5b",
   "metadata": {},
   "source": [
    "### Training data and test data division"
   ]
  },
  {
   "cell_type": "code",
   "execution_count": 256,
   "id": "b3afcdd2",
   "metadata": {},
   "outputs": [
    {
     "name": "stdout",
     "output_type": "stream",
     "text": [
      "1110 197\n"
     ]
    }
   ],
   "source": [
    "training_size = int(len(sequence) * 0.85) # 85% of data used for training\n",
    "test_size = len(sequence) - training_size\n",
    "\n",
    "print(training_size, test_size)\n",
    "train_data, test_data = sequence[0:training_size, :], sequence[training_size:len(sequence), :]"
   ]
  },
  {
   "cell_type": "code",
   "execution_count": 257,
   "id": "82adad81",
   "metadata": {},
   "outputs": [
    {
     "data": {
      "text/plain": [
       "((1110, 1), (197, 1))"
      ]
     },
     "execution_count": 257,
     "metadata": {},
     "output_type": "execute_result"
    }
   ],
   "source": [
    "train_data.shape, test_data.shape"
   ]
  },
  {
   "cell_type": "markdown",
   "id": "84407275",
   "metadata": {},
   "source": [
    "### convert time series into matrix"
   ]
  },
  {
   "cell_type": "code",
   "execution_count": 258,
   "id": "ea749fcc",
   "metadata": {},
   "outputs": [],
   "source": [
    "def create_dataset(sequence, timestep =1):\n",
    "    dataX, dataY = [], []\n",
    "    for i in range(len(sequence) - timestep -1):\n",
    "        a = sequence[i:(i +timestep), 0]\n",
    "        dataX.append(a)\n",
    "        dataY.append(sequence[i + timestep, 0])\n",
    "    return np.array(dataX), np.array(dataY)"
   ]
  },
  {
   "cell_type": "code",
   "execution_count": 259,
   "id": "d7875c95",
   "metadata": {},
   "outputs": [],
   "source": [
    "# reshape into X=t, X=t+1, X=t+2, X=t+3\n",
    "\n",
    "timestep = 3\n",
    "X_train, y_train = create_dataset(train_data, timestep)\n",
    "X_test, y_test = create_dataset(test_data, timestep)"
   ]
  },
  {
   "cell_type": "code",
   "execution_count": 260,
   "id": "ae04be5f",
   "metadata": {},
   "outputs": [
    {
     "name": "stdout",
     "output_type": "stream",
     "text": [
      "(1106, 3) (1106,)\n",
      "(193, 3) (193,)\n"
     ]
    }
   ],
   "source": [
    "print(X_train.shape, y_train.shape)\n",
    "print(X_test.shape, y_test.shape)"
   ]
  },
  {
   "cell_type": "code",
   "execution_count": 261,
   "id": "6205113f",
   "metadata": {},
   "outputs": [],
   "source": [
    "# reshape input to be [samples, timesteps, features] which is required for LSTM\n",
    "\n",
    "X_train = X_train.reshape(X_train.shape[0], X_train.shape[1], 1)\n",
    "X_test = X_test.reshape(X_test.shape[0], X_test.shape[1], 1)\n"
   ]
  },
  {
   "cell_type": "code",
   "execution_count": 262,
   "id": "82547876",
   "metadata": {},
   "outputs": [],
   "source": [
    "# Build the model\n",
    "\n",
    "model = Sequential()\n",
    "model.add(LSTM(50, return_sequences = True, input_shape=(timestep,1)))\n",
    "model.add(LSTM(50, return_sequences = True))\n",
    "model.add(LSTM(50))\n",
    "model.add(Dense(1))\n",
    "model.compile(loss = 'root_mean_squared_error', optimizer = \"adam\")\n"
   ]
  },
  {
   "cell_type": "code",
   "execution_count": 263,
   "id": "9980d9d0",
   "metadata": {},
   "outputs": [
    {
     "name": "stdout",
     "output_type": "stream",
     "text": [
      "Model: \"sequential_17\"\n",
      "_________________________________________________________________\n",
      "Layer (type)                 Output Shape              Param #   \n",
      "=================================================================\n",
      "lstm_51 (LSTM)               (None, 3, 50)             10400     \n",
      "_________________________________________________________________\n",
      "lstm_52 (LSTM)               (None, 3, 50)             20200     \n",
      "_________________________________________________________________\n",
      "lstm_53 (LSTM)               (None, 50)                20200     \n",
      "_________________________________________________________________\n",
      "dense_17 (Dense)             (None, 1)                 51        \n",
      "=================================================================\n",
      "Total params: 50,851\n",
      "Trainable params: 50,851\n",
      "Non-trainable params: 0\n",
      "_________________________________________________________________\n"
     ]
    }
   ],
   "source": [
    "model.summary()"
   ]
  },
  {
   "cell_type": "code",
   "execution_count": 264,
   "id": "fab146df",
   "metadata": {},
   "outputs": [
    {
     "name": "stdout",
     "output_type": "stream",
     "text": [
      "Epoch 1/50\n",
      "553/553 [==============================] - 16s 12ms/step - loss: 0.0048 - val_loss: 0.0115\n",
      "Epoch 2/50\n",
      "553/553 [==============================] - 3s 5ms/step - loss: 0.0017 - val_loss: 0.0061\n",
      "Epoch 3/50\n",
      "553/553 [==============================] - 3s 5ms/step - loss: 0.0014 - val_loss: 0.0068\n",
      "Epoch 4/50\n",
      "553/553 [==============================] - 3s 5ms/step - loss: 0.0014 - val_loss: 0.0034\n",
      "Epoch 5/50\n",
      "553/553 [==============================] - 3s 5ms/step - loss: 0.0013 - val_loss: 0.0041\n",
      "Epoch 6/50\n",
      "553/553 [==============================] - 3s 5ms/step - loss: 0.0013 - val_loss: 0.0029\n",
      "Epoch 7/50\n",
      "553/553 [==============================] - 3s 5ms/step - loss: 0.0014 - val_loss: 0.0030\n",
      "Epoch 8/50\n",
      "553/553 [==============================] - 3s 5ms/step - loss: 0.0014 - val_loss: 0.0021\n",
      "Epoch 9/50\n",
      "553/553 [==============================] - 3s 5ms/step - loss: 0.0011 - val_loss: 0.0019\n",
      "Epoch 10/50\n",
      "553/553 [==============================] - 3s 5ms/step - loss: 0.0010 - val_loss: 0.0020\n",
      "Epoch 11/50\n",
      "553/553 [==============================] - 3s 5ms/step - loss: 0.0011 - val_loss: 0.0019\n",
      "Epoch 12/50\n",
      "553/553 [==============================] - 3s 5ms/step - loss: 0.0011 - val_loss: 0.0017\n",
      "Epoch 13/50\n",
      "553/553 [==============================] - 3s 5ms/step - loss: 9.6915e-04 - val_loss: 0.0036\n",
      "Epoch 14/50\n",
      "553/553 [==============================] - 3s 5ms/step - loss: 9.5791e-04 - val_loss: 0.0029\n",
      "Epoch 15/50\n",
      "553/553 [==============================] - 3s 5ms/step - loss: 9.3451e-04 - val_loss: 0.0017\n",
      "Epoch 16/50\n",
      "553/553 [==============================] - 3s 5ms/step - loss: 8.3655e-04 - val_loss: 0.0027\n",
      "Epoch 17/50\n",
      "553/553 [==============================] - 3s 5ms/step - loss: 8.3454e-04 - val_loss: 0.0037\n",
      "Epoch 18/50\n",
      "553/553 [==============================] - 3s 6ms/step - loss: 7.4422e-04 - val_loss: 0.0036\n",
      "Epoch 19/50\n",
      "553/553 [==============================] - 3s 6ms/step - loss: 7.4579e-04 - val_loss: 0.0012\n",
      "Epoch 20/50\n",
      "553/553 [==============================] - 3s 6ms/step - loss: 7.9200e-04 - val_loss: 0.0015\n",
      "Epoch 21/50\n",
      "553/553 [==============================] - 3s 6ms/step - loss: 7.6059e-04 - val_loss: 0.0013\n",
      "Epoch 22/50\n",
      "553/553 [==============================] - 3s 6ms/step - loss: 7.3805e-04 - val_loss: 0.0016\n",
      "Epoch 23/50\n",
      "553/553 [==============================] - 3s 5ms/step - loss: 6.9828e-04 - val_loss: 0.0053\n",
      "Epoch 24/50\n",
      "553/553 [==============================] - 3s 6ms/step - loss: 7.6570e-04 - val_loss: 0.0016\n",
      "Epoch 25/50\n",
      "553/553 [==============================] - 3s 6ms/step - loss: 6.8247e-04 - val_loss: 0.0036\n",
      "Epoch 26/50\n",
      "553/553 [==============================] - 3s 5ms/step - loss: 7.3203e-04 - val_loss: 0.0017\n",
      "Epoch 27/50\n",
      "553/553 [==============================] - 3s 6ms/step - loss: 7.4356e-04 - val_loss: 0.0018\n",
      "Epoch 28/50\n",
      "553/553 [==============================] - 3s 5ms/step - loss: 6.0588e-04 - val_loss: 0.0060\n",
      "Epoch 29/50\n",
      "553/553 [==============================] - 3s 6ms/step - loss: 6.3397e-04 - val_loss: 0.0053\n",
      "Epoch 30/50\n",
      "553/553 [==============================] - 3s 6ms/step - loss: 6.4440e-04 - val_loss: 0.0026\n",
      "Epoch 31/50\n",
      "553/553 [==============================] - 3s 6ms/step - loss: 6.7141e-04 - val_loss: 0.0036\n",
      "Epoch 32/50\n",
      "553/553 [==============================] - 3s 5ms/step - loss: 5.6726e-04 - val_loss: 0.0073\n",
      "Epoch 33/50\n",
      "553/553 [==============================] - 3s 6ms/step - loss: 5.9658e-04 - val_loss: 0.0048\n",
      "Epoch 34/50\n",
      "553/553 [==============================] - 3s 5ms/step - loss: 6.5532e-04 - val_loss: 0.0034\n",
      "Epoch 35/50\n",
      "553/553 [==============================] - 3s 5ms/step - loss: 6.6883e-04 - val_loss: 0.0021\n",
      "Epoch 36/50\n",
      "553/553 [==============================] - 3s 5ms/step - loss: 6.0557e-04 - val_loss: 0.0052\n",
      "Epoch 37/50\n",
      "553/553 [==============================] - 3s 5ms/step - loss: 6.2722e-04 - val_loss: 0.0015\n",
      "Epoch 38/50\n",
      "553/553 [==============================] - 3s 5ms/step - loss: 5.6938e-04 - val_loss: 0.0016\n",
      "Epoch 39/50\n",
      "553/553 [==============================] - 3s 5ms/step - loss: 6.6494e-04 - val_loss: 0.0018\n",
      "Epoch 40/50\n",
      "553/553 [==============================] - 3s 6ms/step - loss: 5.4992e-04 - val_loss: 0.0017\n",
      "Epoch 41/50\n",
      "553/553 [==============================] - 3s 6ms/step - loss: 5.8088e-04 - val_loss: 0.0023\n",
      "Epoch 42/50\n",
      "553/553 [==============================] - 3s 6ms/step - loss: 6.0031e-04 - val_loss: 0.0020\n",
      "Epoch 43/50\n",
      "553/553 [==============================] - 3s 5ms/step - loss: 6.1393e-04 - val_loss: 0.0012\n",
      "Epoch 44/50\n",
      "553/553 [==============================] - 3s 5ms/step - loss: 5.3807e-04 - val_loss: 0.0013\n",
      "Epoch 45/50\n",
      "553/553 [==============================] - 3s 5ms/step - loss: 6.4148e-04 - val_loss: 0.0034\n",
      "Epoch 46/50\n",
      "553/553 [==============================] - 3s 6ms/step - loss: 5.4956e-04 - val_loss: 0.0022\n",
      "Epoch 47/50\n",
      "553/553 [==============================] - 3s 6ms/step - loss: 5.7829e-04 - val_loss: 0.0012\n",
      "Epoch 48/50\n",
      "553/553 [==============================] - 3s 6ms/step - loss: 6.3235e-04 - val_loss: 0.0012\n",
      "Epoch 49/50\n",
      "553/553 [==============================] - 3s 6ms/step - loss: 6.0048e-04 - val_loss: 0.0029\n",
      "Epoch 50/50\n",
      "553/553 [==============================] - 3s 6ms/step - loss: 6.2212e-04 - val_loss: 0.0013\n"
     ]
    },
    {
     "data": {
      "text/plain": [
       "<keras.callbacks.History at 0x20b7fd7cb80>"
      ]
     },
     "execution_count": 264,
     "metadata": {},
     "output_type": "execute_result"
    }
   ],
   "source": [
    "## fit the model\n",
    "\n",
    "model.fit(X_train, y_train, validation_data = (X_test, y_test), epochs = 50, batch_size = 2, verbose = 1, workers = 4)"
   ]
  },
  {
   "cell_type": "code",
   "execution_count": 265,
   "id": "a9370c23",
   "metadata": {},
   "outputs": [
    {
     "data": {
      "text/plain": [
       "(array([[0.6421966 ],\n",
       "        [0.5268387 ],\n",
       "        [0.47441554],\n",
       "        [0.3962027 ],\n",
       "        [0.5142768 ]], dtype=float32),\n",
       " array([[0.43231177],\n",
       "        [0.41061935],\n",
       "        [0.39823014],\n",
       "        [0.38868502],\n",
       "        [0.35828036]], dtype=float32))"
      ]
     },
     "execution_count": 265,
     "metadata": {},
     "output_type": "execute_result"
    }
   ],
   "source": [
    "train_pred = model.predict(X_train)\n",
    "test_pred = model.predict(X_test)\n",
    "test_pred[:5], train_pred[:5]"
   ]
  },
  {
   "cell_type": "code",
   "execution_count": 266,
   "id": "12ab5cb0",
   "metadata": {},
   "outputs": [
    {
     "data": {
      "text/plain": [
       "(array([[1.2267041],\n",
       "        [1.0306891],\n",
       "        [0.9416122],\n",
       "        [0.8087137],\n",
       "        [1.0093441]], dtype=float32),\n",
       " array([[0.87006986],\n",
       "        [0.8332103 ],\n",
       "        [0.81215864],\n",
       "        [0.7959397 ],\n",
       "        [0.7442764 ]], dtype=float32))"
      ]
     },
     "execution_count": 266,
     "metadata": {},
     "output_type": "execute_result"
    }
   ],
   "source": [
    "# transform data back to normal scale\n",
    "train_predictions= scaler.inverse_transform(train_pred)\n",
    "test_predictions = scaler.inverse_transform(test_pred)\n",
    "test_predictions[:5], train_predictions[:5]"
   ]
  },
  {
   "cell_type": "code",
   "execution_count": 267,
   "id": "51fa9902",
   "metadata": {},
   "outputs": [
    {
     "name": "stdout",
     "output_type": "stream",
     "text": [
      "20/20 [==============================] - 3s 3ms/step - loss: 9.9402e-16\n"
     ]
    },
    {
     "data": {
      "text/plain": [
       "9.940235509099042e-16"
      ]
     },
     "execution_count": 267,
     "metadata": {},
     "output_type": "execute_result"
    }
   ],
   "source": [
    "model.evaluate(X_test, test_pred, batch_size = 10)"
   ]
  },
  {
   "cell_type": "code",
   "execution_count": 269,
   "id": "4fbdaa6c",
   "metadata": {},
   "outputs": [
    {
     "data": {
      "text/plain": [
       "<matplotlib.legend.Legend at 0x20b8c977f10>"
      ]
     },
     "execution_count": 269,
     "metadata": {},
     "output_type": "execute_result"
    },
    {
     "data": {
      "image/png": "[encoded data removed]",
      "text/plain": [
       "<Figure size 432x288 with 1 Axes>"
      ]
     },
     "metadata": {
      "needs_background": "light"
     },
     "output_type": "display_data"
    }
   ],
   "source": [
    "## Plotting \n",
    "# shift trainpredictions for plotting\n",
    "\n",
    "look_back = timestep\n",
    "trainPredictPlot = np.empty_like(sequence)\n",
    "trainPredictPlot[:, :] = np.nan\n",
    "trainPredictPlot[look_back:len(train_predictions) + look_back, :] = train_predictions\n",
    "#  shift test preds for plotting\n",
    "\n",
    "testPredictPlot = np.empty_like(sequence)\n",
    "testPredictPlot[:, :] = np.nan\n",
    "testPredictPlot[len(train_predictions) + (look_back * 2) + 1: len(sequence) -1, :] = test_predictions\n",
    "\n",
    "\n",
    "#plot baseline and predictions\n",
    "plt.plot(scaler.inverse_transform(sequence), label = \"Measured\")\n",
    "plt.plot(trainPredictPlot, label = \"Model fit - train data\")\n",
    "plt.plot(testPredictPlot, label = \"Model fit - test data\")\n",
    "plt.xlabel(\"Time (in days)\"), plt.ylabel(\"Price in US dollars\"), plt.title(\"Ripple\")\n",
    "plt.legend()"
   ]
  },
  {
   "cell_type": "code",
   "execution_count": null,
   "id": "0dcc173e",
   "metadata": {},
   "outputs": [],
   "source": []
  },
  {
   "cell_type": "code",
   "execution_count": null,
   "id": "e0743b84",
   "metadata": {},
   "outputs": [],
   "source": []
  },
  {
   "cell_type": "code",
   "execution_count": null,
   "id": "5714188b",
   "metadata": {},
   "outputs": [],
   "source": []
  },
  {
   "cell_type": "code",
   "execution_count": null,
   "id": "e2bb23c1",
   "metadata": {},
   "outputs": [],
   "source": []
  },
  {
   "cell_type": "code",
   "execution_count": 64,
   "id": "ea5ae099",
   "metadata": {},
   "outputs": [
    {
     "data": {
      "text/plain": [
       "0.9400193799329098"
      ]
     },
     "execution_count": 64,
     "metadata": {},
     "output_type": "execute_result"
    }
   ],
   "source": [
    "from sklearn.neural_network import MLPRegressor\n",
    "from sklearn.datasets import make_regression\n",
    "from sklearn.model_selection import train_test_split\n",
    "\n",
    "\n",
    "\n",
    "# X_train, X_test, y_train, y_test = train_test_split(X, y, random_state=42)\n",
    "\n",
    "\n",
    "regr = MLPRegressor(hidden_layer_sizes = (100), activation = 'relu', random_state=42, max_iter=500).fit(X_train, y_train)\n",
    "y_pred = regr.predict(X_test)\n",
    "\n",
    "regr.score(X_test, y_test)"
   ]
  },
  {
   "cell_type": "code",
   "execution_count": 66,
   "id": "6a4f1330",
   "metadata": {},
   "outputs": [
    {
     "data": {
      "text/plain": [
       "0.07671010397213307"
      ]
     },
     "execution_count": 66,
     "metadata": {},
     "output_type": "execute_result"
    }
   ],
   "source": [
    "mean_squared_error(y_test, y_pred, squared = False)"
   ]
  },
  {
   "cell_type": "code",
   "execution_count": null,
   "id": "47a079d5",
   "metadata": {},
   "outputs": [],
   "source": []
  },
  {
   "cell_type": "code",
   "execution_count": null,
   "id": "5731f650",
   "metadata": {},
   "outputs": [],
   "source": []
  },
  {
   "cell_type": "code",
   "execution_count": null,
   "id": "fb2dbec9",
   "metadata": {},
   "outputs": [],
   "source": []
  }
 ],
 "metadata": {
  "kernelspec": {
   "display_name": "Python 3",
   "language": "python",
   "name": "python3"
  },
  "language_info": {
   "codemirror_mode": {
    "name": "ipython",
    "version": 3
   },
   "file_extension": ".py",
   "mimetype": "text/x-python",
   "name": "python",
   "nbconvert_exporter": "python",
   "pygments_lexer": "ipython3",
   "version": "3.8.8"
  }
 },
 "nbformat": 4,
 "nbformat_minor": 5
}
